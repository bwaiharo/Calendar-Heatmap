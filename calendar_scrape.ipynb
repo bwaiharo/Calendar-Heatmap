{
 "cells": [
  {
   "cell_type": "code",
   "execution_count": 121,
   "metadata": {},
   "outputs": [],
   "source": [
    "\n",
    "from bs4 import BeautifulSoup\n",
    "import requests\n",
    "from splinter import Browser\n",
    "import pandas as pd\n",
    "from pprint import pprint\n",
    "import re"
   ]
  },
  {
   "cell_type": "code",
   "execution_count": 122,
   "metadata": {},
   "outputs": [],
   "source": [
    "executable_path = {'executable_path': 'chromedriver'}\n",
    "browser = Browser('chrome', **executable_path, headless=True)"
   ]
  },
  {
   "cell_type": "code",
   "execution_count": 123,
   "metadata": {},
   "outputs": [],
   "source": [
    "# Let's get the JSON for 100 posts sequentially.\n",
    "url = \"https://www.timeanddate.com/holidays/kenya\"\n"
   ]
  },
  {
   "cell_type": "code",
   "execution_count": 124,
   "metadata": {},
   "outputs": [],
   "source": [
    "tables = pd.read_html(url)\n"
   ]
  },
  {
   "cell_type": "code",
   "execution_count": 125,
   "metadata": {},
   "outputs": [
    {
     "data": {
      "text/html": [
       "<div>\n",
       "<style scoped>\n",
       "    .dataframe tbody tr th:only-of-type {\n",
       "        vertical-align: middle;\n",
       "    }\n",
       "\n",
       "    .dataframe tbody tr th {\n",
       "        vertical-align: top;\n",
       "    }\n",
       "\n",
       "    .dataframe thead th {\n",
       "        text-align: right;\n",
       "    }\n",
       "</style>\n",
       "<table border=\"1\" class=\"dataframe\">\n",
       "  <thead>\n",
       "    <tr style=\"text-align: right;\">\n",
       "      <th></th>\n",
       "      <th>Date</th>\n",
       "      <th>Day</th>\n",
       "      <th>Name</th>\n",
       "      <th>Type</th>\n",
       "    </tr>\n",
       "  </thead>\n",
       "  <tbody>\n",
       "    <tr>\n",
       "      <th>0</th>\n",
       "      <td>Jan 1</td>\n",
       "      <td>Wednesday</td>\n",
       "      <td>New Year's Day</td>\n",
       "      <td>Public holiday</td>\n",
       "    </tr>\n",
       "    <tr>\n",
       "      <th>3</th>\n",
       "      <td>Mar 20</td>\n",
       "      <td>Friday</td>\n",
       "      <td>March Equinox</td>\n",
       "      <td>Season</td>\n",
       "    </tr>\n",
       "    <tr>\n",
       "      <th>5</th>\n",
       "      <td>Apr 10</td>\n",
       "      <td>Friday</td>\n",
       "      <td>Good Friday</td>\n",
       "      <td>Public holiday</td>\n",
       "    </tr>\n",
       "    <tr>\n",
       "      <th>6</th>\n",
       "      <td>Apr 12</td>\n",
       "      <td>Sunday</td>\n",
       "      <td>Easter Sunday</td>\n",
       "      <td>Observance</td>\n",
       "    </tr>\n",
       "    <tr>\n",
       "      <th>7</th>\n",
       "      <td>Apr 13</td>\n",
       "      <td>Monday</td>\n",
       "      <td>Easter Monday</td>\n",
       "      <td>Public holiday</td>\n",
       "    </tr>\n",
       "    <tr>\n",
       "      <th>9</th>\n",
       "      <td>May 1</td>\n",
       "      <td>Friday</td>\n",
       "      <td>Labour Day/May Day</td>\n",
       "      <td>Public holiday</td>\n",
       "    </tr>\n",
       "    <tr>\n",
       "      <th>10</th>\n",
       "      <td>May 10</td>\n",
       "      <td>Sunday</td>\n",
       "      <td>Mother's Day</td>\n",
       "      <td>Observance</td>\n",
       "    </tr>\n",
       "    <tr>\n",
       "      <th>11</th>\n",
       "      <td>May 25</td>\n",
       "      <td>Monday</td>\n",
       "      <td>Eid al-Fitr</td>\n",
       "      <td>Public holiday</td>\n",
       "    </tr>\n",
       "    <tr>\n",
       "      <th>13</th>\n",
       "      <td>Jun 1</td>\n",
       "      <td>Monday</td>\n",
       "      <td>Madaraka Day</td>\n",
       "      <td>Public holiday</td>\n",
       "    </tr>\n",
       "    <tr>\n",
       "      <th>14</th>\n",
       "      <td>Jun 21</td>\n",
       "      <td>Sunday</td>\n",
       "      <td>June Solstice</td>\n",
       "      <td>Season</td>\n",
       "    </tr>\n",
       "    <tr>\n",
       "      <th>16</th>\n",
       "      <td>Jul 31</td>\n",
       "      <td>Friday</td>\n",
       "      <td>Eid al-Adha</td>\n",
       "      <td>Optional Holiday</td>\n",
       "    </tr>\n",
       "    <tr>\n",
       "      <th>19</th>\n",
       "      <td>Sep 22</td>\n",
       "      <td>Tuesday</td>\n",
       "      <td>September Equinox</td>\n",
       "      <td>Season</td>\n",
       "    </tr>\n",
       "    <tr>\n",
       "      <th>21</th>\n",
       "      <td>Oct 10</td>\n",
       "      <td>Saturday</td>\n",
       "      <td>Moi Day</td>\n",
       "      <td>Public holiday</td>\n",
       "    </tr>\n",
       "    <tr>\n",
       "      <th>22</th>\n",
       "      <td>Oct 20</td>\n",
       "      <td>Tuesday</td>\n",
       "      <td>Mashujaa Day</td>\n",
       "      <td>Public holiday</td>\n",
       "    </tr>\n",
       "    <tr>\n",
       "      <th>24</th>\n",
       "      <td>Nov 14</td>\n",
       "      <td>Saturday</td>\n",
       "      <td>Diwali</td>\n",
       "      <td>Optional Holiday</td>\n",
       "    </tr>\n",
       "    <tr>\n",
       "      <th>26</th>\n",
       "      <td>Dec 12</td>\n",
       "      <td>Saturday</td>\n",
       "      <td>Jamhuri Day</td>\n",
       "      <td>Public holiday</td>\n",
       "    </tr>\n",
       "    <tr>\n",
       "      <th>27</th>\n",
       "      <td>Dec 21</td>\n",
       "      <td>Monday</td>\n",
       "      <td>December Solstice</td>\n",
       "      <td>Season</td>\n",
       "    </tr>\n",
       "    <tr>\n",
       "      <th>28</th>\n",
       "      <td>Dec 24</td>\n",
       "      <td>Thursday</td>\n",
       "      <td>Christmas Eve</td>\n",
       "      <td>Observance</td>\n",
       "    </tr>\n",
       "    <tr>\n",
       "      <th>29</th>\n",
       "      <td>Dec 25</td>\n",
       "      <td>Friday</td>\n",
       "      <td>Christmas Day</td>\n",
       "      <td>Public holiday</td>\n",
       "    </tr>\n",
       "    <tr>\n",
       "      <th>30</th>\n",
       "      <td>Dec 26</td>\n",
       "      <td>Saturday</td>\n",
       "      <td>Boxing Day</td>\n",
       "      <td>Public holiday</td>\n",
       "    </tr>\n",
       "    <tr>\n",
       "      <th>31</th>\n",
       "      <td>Dec 31</td>\n",
       "      <td>Thursday</td>\n",
       "      <td>New Year's Eve</td>\n",
       "      <td>Observance</td>\n",
       "    </tr>\n",
       "  </tbody>\n",
       "</table>\n",
       "</div>"
      ],
      "text/plain": [
       "      Date        Day                Name              Type\n",
       "0    Jan 1  Wednesday      New Year's Day    Public holiday\n",
       "3   Mar 20     Friday       March Equinox            Season\n",
       "5   Apr 10     Friday         Good Friday    Public holiday\n",
       "6   Apr 12     Sunday       Easter Sunday        Observance\n",
       "7   Apr 13     Monday       Easter Monday    Public holiday\n",
       "9    May 1     Friday  Labour Day/May Day    Public holiday\n",
       "10  May 10     Sunday        Mother's Day        Observance\n",
       "11  May 25     Monday         Eid al-Fitr    Public holiday\n",
       "13   Jun 1     Monday        Madaraka Day    Public holiday\n",
       "14  Jun 21     Sunday       June Solstice            Season\n",
       "16  Jul 31     Friday         Eid al-Adha  Optional Holiday\n",
       "19  Sep 22    Tuesday   September Equinox            Season\n",
       "21  Oct 10   Saturday             Moi Day    Public holiday\n",
       "22  Oct 20    Tuesday        Mashujaa Day    Public holiday\n",
       "24  Nov 14   Saturday              Diwali  Optional Holiday\n",
       "26  Dec 12   Saturday         Jamhuri Day    Public holiday\n",
       "27  Dec 21     Monday   December Solstice            Season\n",
       "28  Dec 24   Thursday       Christmas Eve        Observance\n",
       "29  Dec 25     Friday       Christmas Day    Public holiday\n",
       "30  Dec 26   Saturday          Boxing Day    Public holiday\n",
       "31  Dec 31   Thursday      New Year's Eve        Observance"
      ]
     },
     "execution_count": 125,
     "metadata": {},
     "output_type": "execute_result"
    }
   ],
   "source": [
    "df = tables[0]\n",
    "df.columns = ['Date','Day', 'Name', 'Type']\n",
    "df = df.dropna()\n",
    "df"
   ]
  },
  {
   "cell_type": "code",
   "execution_count": 6,
   "metadata": {},
   "outputs": [],
   "source": [
    "# df.set_index('Date', inplace=True)\n",
    "# df.head()"
   ]
  },
  {
   "cell_type": "code",
   "execution_count": 7,
   "metadata": {},
   "outputs": [
    {
     "name": "stdout",
     "output_type": "stream",
     "text": [
      "('[{\"Date\":\"Mar 20\",\"Day\":\"Friday\",\"Name\":\"March '\n",
      " 'Equinox\",\"Type\":\"Season\"},{\"Date\":\"Mar 21\",\"Day\":\"Saturday\",\"Name\":\"Naw '\n",
      " 'Roz\",\"Type\":\"Public Holiday\"},{\"Date\":\"Apr '\n",
      " '24\",\"Day\":\"Friday\",\"Name\":\"Ramadan starts\",\"Type\":\"Public '\n",
      " 'Holiday\"},{\"Date\":\"Apr 28\",\"Day\":\"Tuesday\",\"Name\":\"Afghan Victory '\n",
      " 'Day\",\"Type\":\"Public Holiday\"},{\"Date\":\"May 24\",\"Day\":\"Sunday\",\"Name\":\"Eid '\n",
      " 'al-Fitr\",\"Type\":\"Public Holiday\"},{\"Date\":\"May '\n",
      " '25\",\"Day\":\"Monday\",\"Name\":\"Eid al-Fitr Holiday\",\"Type\":\"Public '\n",
      " 'Holiday\"},{\"Date\":\"May 26\",\"Day\":\"Tuesday\",\"Name\":\"Eid al-Fitr '\n",
      " 'Holiday\",\"Type\":\"Public Holiday\"},{\"Date\":\"Jun '\n",
      " '21\",\"Day\":\"Sunday\",\"Name\":\"June Solstice\",\"Type\":\"Season\"},{\"Date\":\"Jul '\n",
      " '30\",\"Day\":\"Thursday\",\"Name\":\"Day of Arafat\",\"Type\":\"Public '\n",
      " 'Holiday\"},{\"Date\":\"Jul 31\",\"Day\":\"Friday\",\"Name\":\"Eid '\n",
      " 'al-Qurban\",\"Type\":\"Public Holiday\"},{\"Date\":\"Aug '\n",
      " '1\",\"Day\":\"Saturday\",\"Name\":\"Eid al-Qurban Holiday\",\"Type\":\"Public '\n",
      " 'Holiday\"},{\"Date\":\"Aug 2\",\"Day\":\"Sunday\",\"Name\":\"Eid al-Qurban '\n",
      " 'Holiday\",\"Type\":\"Public Holiday\"},{\"Date\":\"Aug '\n",
      " '19\",\"Day\":\"Wednesday\",\"Name\":\"Independence Day (National '\n",
      " 'Day)\",\"Type\":\"Public Holiday\"},{\"Date\":\"Aug '\n",
      " '29\",\"Day\":\"Saturday\",\"Name\":\"Ashura\",\"Type\":\"Public Holiday\"},{\"Date\":\"Sep '\n",
      " '9\",\"Day\":\"Wednesday\",\"Name\":\"Martyrs and Ahmad Shah Masoud '\n",
      " 'Day\",\"Type\":\"Public Holiday\"},{\"Date\":\"Sep '\n",
      " '22\",\"Day\":\"Tuesday\",\"Name\":\"September Equinox\",\"Type\":\"Season\"},{\"Date\":\"Oct '\n",
      " '29\",\"Day\":\"Thursday\",\"Name\":\"The Prophet\\'s Birthday\",\"Type\":\"Public '\n",
      " 'Holiday\"},{\"Date\":\"Dec 21\",\"Day\":\"Monday\",\"Name\":\"December '\n",
      " 'Solstice\",\"Type\":\"Season\"}]')\n"
     ]
    }
   ],
   "source": [
    "pprint(df.to_json(orient='records'))"
   ]
  },
  {
   "cell_type": "code",
   "execution_count": null,
   "metadata": {},
   "outputs": [],
   "source": []
  },
  {
   "cell_type": "code",
   "execution_count": null,
   "metadata": {},
   "outputs": [],
   "source": []
  },
  {
   "cell_type": "code",
   "execution_count": 98,
   "metadata": {},
   "outputs": [],
   "source": [
    "browser.visit(url)"
   ]
  },
  {
   "cell_type": "code",
   "execution_count": 103,
   "metadata": {},
   "outputs": [
    {
     "data": {
      "text/plain": [
       "[<article class=\"category-list\"><section id=\"A\"><h3 class=\"category-list__category\">A</h3><ul class=\"category-list__list\"><li><a href=\"/holidays/afghanistan/\">Afghanistan</a></li><li><a href=\"/holidays/albania/\">Albania</a></li><li><a href=\"/holidays/algeria/\">Algeria</a></li><li><a href=\"/holidays/american-samoa/\">American Samoa</a></li><li><a href=\"/holidays/andorra/\">Andorra</a></li><li><a href=\"/holidays/angola/\">Angola</a></li><li><a href=\"/holidays/anguilla/\">Anguilla</a></li><li><a href=\"/holidays/antigua-and-barbuda/\">Antigua and Barbuda</a></li><li><a href=\"/holidays/argentina/\">Argentina</a></li><li><a href=\"/holidays/armenia/\">Armenia</a></li><li><a href=\"/holidays/aruba/\">Aruba</a></li><li><a href=\"/holidays/australia/\">Australia</a></li><li><a href=\"/holidays/austria/\">Austria</a></li><li><a href=\"/holidays/azerbaijan/\">Azerbaijan</a></li></ul></section><section id=\"B\"><h3 class=\"category-list__category\">B</h3><ul class=\"category-list__list\"><li><a href=\"/holidays/bahrain/\">Bahrain</a></li><li><a href=\"/holidays/bangladesh/\">Bangladesh</a></li><li><a href=\"/holidays/barbados/\">Barbados</a></li><li><a href=\"/holidays/belarus/\">Belarus</a></li><li><a href=\"/holidays/belgium/\">Belgium</a></li><li><a href=\"/holidays/belize/\">Belize</a></li><li><a href=\"/holidays/benin/\">Benin</a></li><li><a href=\"/holidays/bermuda/\">Bermuda</a></li><li><a href=\"/holidays/bhutan/\">Bhutan</a></li><li><a href=\"/holidays/bolivia/\">Bolivia</a></li><li><a href=\"/holidays/bosnia/\">Bosnia and Herzegovina</a></li><li><a href=\"/holidays/botswana/\">Botswana</a></li><li><a href=\"/holidays/brazil/\">Brazil</a></li><li><a href=\"/holidays/british-virgin-islands/\">British Virgin Islands</a></li><li><a href=\"/holidays/brunei/\">Brunei</a></li><li><a href=\"/holidays/bulgaria/\">Bulgaria</a></li><li><a href=\"/holidays/burkina-faso/\">Burkina Faso</a></li><li><a href=\"/holidays/burundi/\">Burundi</a></li></ul></section><section class=\"collapsible\"><h4 class=\"collapsible__more\"><a href=\"#\">Show more <i class=\"i-font i-expand_more\"></i></a></h4><div class=\"collapsible__content\"><section id=\"C\"><h3 class=\"category-list__category\">C</h3><ul class=\"category-list__list\"><li><a href=\"/holidays/cape-verde/\">Cabo Verde</a></li><li><a href=\"/holidays/cambodia/\">Cambodia</a></li><li><a href=\"/holidays/cameroon/\">Cameroon</a></li><li><a href=\"/holidays/canada/\">Canada</a></li><li><a href=\"/holidays/cayman-islands/\">Cayman Islands</a></li><li><a href=\"/holidays/central-african-republic/\">Central African Republic</a></li><li><a href=\"/holidays/chad/\">Chad</a></li><li><a href=\"/holidays/chile/\">Chile</a></li><li><a href=\"/holidays/china/\">China</a></li><li><a href=\"/holidays/colombia/\">Colombia</a></li><li><a href=\"/holidays/comores/\">Comoros</a></li><li><a href=\"/holidays/republic-of-the-congo/\">Congo</a></li><li><a href=\"/holidays/dr-congo/\">Congo Democratic Republic</a></li><li><a href=\"/holidays/cook-islands/\">Cook Islands</a></li><li><a href=\"/holidays/costa-rica/\">Costa Rica</a></li><li><a href=\"/holidays/ivory-coast/\">Cote d'Ivoire</a></li><li><a href=\"/holidays/croatia/\">Croatia</a></li><li><a href=\"/holidays/cuba/\">Cuba</a></li><li><a href=\"/holidays/curacao/\">Curaçao</a></li><li><a href=\"/holidays/cyprus/\">Cyprus</a></li><li><a href=\"/holidays/czech/\">Czechia</a></li></ul></section><section id=\"D\"><h3 class=\"category-list__category\">D</h3><ul class=\"category-list__list\"><li><a href=\"/holidays/denmark/\">Denmark</a></li><li><a href=\"/holidays/djibouti/\">Djibouti</a></li><li><a href=\"/holidays/dominica/\">Dominica</a></li><li><a href=\"/holidays/dominican-republic/\">Dominican Republic</a></li></ul></section><section id=\"E\"><h3 class=\"category-list__category\">E</h3><ul class=\"category-list__list\"><li><a href=\"/holidays/timor-leste/\">East Timor</a></li><li><a href=\"/holidays/ecuador/\">Ecuador</a></li><li><a href=\"/holidays/egypt/\">Egypt</a></li><li><a href=\"/holidays/el-salvador/\">El Salvador</a></li><li><a href=\"/holidays/guineaecuatorial/\">Equatorial Guinea</a></li><li><a href=\"/holidays/eritrea/\">Eritrea</a></li><li><a href=\"/holidays/estonia/\">Estonia</a></li><li><a href=\"/holidays/swaziland/\">eSwatini</a></li><li><a href=\"/holidays/ethiopia/\">Ethiopia</a></li></ul></section><section id=\"F\"><h3 class=\"category-list__category\">F</h3><ul class=\"category-list__list\"><li><a href=\"/holidays/falkland-islands/\">Falkland Islands</a></li><li><a href=\"/holidays/faroe-islands/\">Faroe Islands</a></li><li><a href=\"/holidays/fiji/\">Fiji</a></li><li><a href=\"/holidays/finland/\">Finland</a></li><li><a href=\"/holidays/france/\">France</a></li><li><a href=\"/holidays/french-guiana/\">French Guiana</a></li><li><a href=\"/holidays/french-polynesia/\">French Polynesia</a></li></ul></section><section id=\"G\"><h3 class=\"category-list__category\">G</h3><ul class=\"category-list__list\"><li><a href=\"/holidays/gabon/\">Gabon</a></li><li><a href=\"/holidays/gambia/\">Gambia</a></li><li><a href=\"/holidays/georgia/\">Georgia</a></li><li><a href=\"/holidays/germany/\">Germany</a></li><li><a href=\"/holidays/ghana/\">Ghana</a></li><li><a href=\"/holidays/gibraltar/\">Gibraltar</a></li><li><a href=\"/holidays/greece/\">Greece</a></li><li><a href=\"/holidays/greenland/\">Greenland</a></li><li><a href=\"/holidays/grenada/\">Grenada</a></li><li><a href=\"/holidays/guadeloupe/\">Guadeloupe</a></li><li><a href=\"/holidays/guam/\">Guam</a></li><li><a href=\"/holidays/guatemala/\">Guatemala</a></li><li><a href=\"/holidays/guernsey/\">Guernsey</a></li><li><a href=\"/holidays/guinea/\">Guinea</a></li><li><a href=\"/holidays/guinea-bissau/\">Guinea-Bissau</a></li><li><a href=\"/holidays/guyana/\">Guyana</a></li></ul></section><section id=\"H\"><h3 class=\"category-list__category\">H</h3><ul class=\"category-list__list\"><li><a href=\"/holidays/haiti/\">Haiti</a></li><li><a href=\"/holidays/honduras/\">Honduras</a></li><li><a href=\"/holidays/hong-kong/\">Hong Kong</a></li><li><a href=\"/holidays/hungary/\">Hungary</a></li></ul></section><section id=\"I\"><h3 class=\"category-list__category\">I</h3><ul class=\"category-list__list\"><li><a href=\"/holidays/iceland/\">Iceland</a></li><li><a href=\"/holidays/india/\">India</a></li><li><a href=\"/holidays/indonesia/\">Indonesia</a></li><li><a href=\"/holidays/iran/\">Iran</a></li><li><a href=\"/holidays/iraq/\">Iraq</a></li><li><a href=\"/holidays/ireland/\">Ireland</a></li><li><a href=\"/holidays/isle-of-man/\">Isle of Man</a></li><li><a href=\"/holidays/israel/\">Israel</a></li><li><a href=\"/holidays/italy/\">Italy</a></li></ul></section><section id=\"J\"><h3 class=\"category-list__category\">J</h3><ul class=\"category-list__list\"><li><a href=\"/holidays/jamaica/\">Jamaica</a></li><li><a href=\"/holidays/japan/\">Japan</a></li><li><a href=\"/holidays/jersey/\">Jersey</a></li><li><a href=\"/holidays/jordan/\">Jordan</a></li></ul></section><section id=\"K\"><h3 class=\"category-list__category\">K</h3><ul class=\"category-list__list\"><li><a href=\"/holidays/kazakhstan/\">Kazakhstan</a></li><li><a href=\"/holidays/kenya/\">Kenya</a></li><li><a href=\"/holidays/kiribati/\">Kiribati</a></li><li><a href=\"/holidays/kosovo/\">Kosovo</a></li><li><a href=\"/holidays/kuwait/\">Kuwait</a></li><li><a href=\"/holidays/kyrgyzstan/\">Kyrgyzstan</a></li></ul></section><section id=\"L\"><h3 class=\"category-list__category\">L</h3><ul class=\"category-list__list\"><li><a href=\"/holidays/laos/\">Laos</a></li><li><a href=\"/holidays/latvia/\">Latvia</a></li><li><a href=\"/holidays/lebanon/\">Lebanon</a></li><li><a href=\"/holidays/lesotho/\">Lesotho</a></li><li><a href=\"/holidays/liberia/\">Liberia</a></li><li><a href=\"/holidays/libya/\">Libya</a></li><li><a href=\"/holidays/liechtenstein/\">Liechtenstein</a></li><li><a href=\"/holidays/lithuania/\">Lithuania</a></li><li><a href=\"/holidays/luxembourg/\">Luxembourg</a></li></ul></section><section id=\"M\"><h3 class=\"category-list__category\">M</h3><ul class=\"category-list__list\"><li><a href=\"/holidays/macau/\">Macau</a></li><li><a href=\"/holidays/madagascar/\">Madagascar</a></li><li><a href=\"/holidays/malawi/\">Malawi</a></li><li><a href=\"/holidays/malaysia/\">Malaysia</a></li><li><a href=\"/holidays/maldives/\">Maldives</a></li><li><a href=\"/holidays/mali/\">Mali</a></li><li><a href=\"/holidays/malta/\">Malta</a></li><li><a href=\"/holidays/marshall-islands/\">Marshall Islands</a></li><li><a href=\"/holidays/martinique/\">Martinique</a></li><li><a href=\"/holidays/mauritania/\">Mauritania</a></li><li><a href=\"/holidays/mauritius/\">Mauritius</a></li><li><a href=\"/holidays/mayotte/\">Mayotte</a></li><li><a href=\"/holidays/mexico/\">Mexico</a></li><li><a href=\"/holidays/micronesia/\">Micronesia</a></li><li><a href=\"/holidays/moldova/\">Moldova</a></li><li><a href=\"/holidays/monaco/\">Monaco</a></li><li><a href=\"/holidays/mongolia/\">Mongolia</a></li><li><a href=\"/holidays/montenegro/\">Montenegro</a></li><li><a href=\"/holidays/montserrat/\">Montserrat</a></li><li><a href=\"/holidays/morocco/\">Morocco</a></li><li><a href=\"/holidays/mozambique/\">Mozambique</a></li><li><a href=\"/holidays/myanmar/\">Myanmar</a></li></ul></section><section id=\"N\"><h3 class=\"category-list__category\">N</h3><ul class=\"category-list__list\"><li><a href=\"/holidays/namibia/\">Namibia</a></li><li><a href=\"/holidays/nauru/\">Nauru</a></li><li><a href=\"/holidays/nepal/\">Nepal</a></li><li><a href=\"/holidays/netherlands/\">Netherlands</a></li><li><a href=\"/holidays/new-caledonia/\">New Caledonia</a></li><li><a href=\"/holidays/new-zealand/\">New Zealand</a></li><li><a href=\"/holidays/nicaragua/\">Nicaragua</a></li><li><a href=\"/holidays/niger/\">Niger</a></li><li><a href=\"/holidays/nigeria/\">Nigeria</a></li><li><a href=\"/holidays/north-korea/\">North Korea</a></li><li><a href=\"/holidays/macedonia/\">North Macedonia</a></li><li><a href=\"/holidays/northern-mariana-islands/\">Northern Mariana Islands</a></li><li><a href=\"/holidays/norway/\">Norway</a></li></ul></section><section id=\"O\"><h3 class=\"category-list__category\">O</h3><ul class=\"category-list__list\"><li><a href=\"/holidays/oman/\">Oman</a></li></ul></section><section id=\"P\"><h3 class=\"category-list__category\">P</h3><ul class=\"category-list__list\"><li><a href=\"/holidays/pakistan/\">Pakistan</a></li><li><a href=\"/holidays/palau/\">Palau</a></li><li><a href=\"/holidays/panama/\">Panama</a></li><li><a href=\"/holidays/papua-new-guinea/\">Papua New Guinea</a></li><li><a href=\"/holidays/paraguay/\">Paraguay</a></li><li><a href=\"/holidays/peru/\">Peru</a></li><li><a href=\"/holidays/philippines/\">Philippines</a></li><li><a href=\"/holidays/poland/\">Poland</a></li><li><a href=\"/holidays/portugal/\">Portugal</a></li><li><a href=\"/holidays/puerto-rico/\">Puerto Rico</a></li></ul></section><section id=\"Q\"><h3 class=\"category-list__category\">Q</h3><ul class=\"category-list__list\"><li><a href=\"/holidays/qatar/\">Qatar</a></li></ul></section><section id=\"R\"><h3 class=\"category-list__category\">R</h3><ul class=\"category-list__list\"><li><a href=\"/holidays/reunion/\">Reunion</a></li><li><a href=\"/holidays/romania/\">Romania</a></li><li><a href=\"/holidays/russia/\">Russia</a></li><li><a href=\"/holidays/rwanda/\">Rwanda</a></li></ul></section><section id=\"S\"><h3 class=\"category-list__category\">S</h3><ul class=\"category-list__list\"><li><a href=\"/holidays/saint-helena/\">Saint Helena</a></li><li><a href=\"/holidays/saint-kitts-and-nevis/\">Saint Kitts and Nevis</a></li><li><a href=\"/holidays/saint-lucia/\">Saint Lucia</a></li><li><a href=\"/holidays/saint-martin/\">Saint Martin</a></li><li><a href=\"/holidays/saint-pierre-and-miquelon/\">Saint Pierre and Miquelon</a></li><li><a href=\"/holidays/saint-vincent-and-the-grenadines/\">Saint Vincent and the Grenadines</a></li><li><a href=\"/holidays/samoa/\">Samoa</a></li><li><a href=\"/holidays/san-marino/\">San Marino</a></li><li><a href=\"/holidays/sao-tome-and-principe/\">Sao Tome and Principe</a></li><li><a href=\"/holidays/saudi-arabia/\">Saudi Arabia</a></li><li><a href=\"/holidays/senegal/\">Senegal</a></li><li><a href=\"/holidays/serbia/\">Serbia</a></li><li><a href=\"/holidays/seychelles/\">Seychelles</a></li><li><a href=\"/holidays/sierra-leone/\">Sierra Leone</a></li><li><a href=\"/holidays/singapore/\">Singapore</a></li><li><a href=\"/holidays/sint-maarten/\">Sint Maarten</a></li><li><a href=\"/holidays/slovakia/\">Slovakia</a></li><li><a href=\"/holidays/slovenia/\">Slovenia</a></li><li><a href=\"/holidays/solomon-islands/\">Solomon Islands</a></li><li><a href=\"/holidays/somalia/\">Somalia</a></li><li><a href=\"/holidays/south-africa/\">South Africa</a></li><li><a href=\"/holidays/south-korea/\">South Korea</a></li><li><a href=\"/holidays/south-sudan/\">South Sudan</a></li><li><a href=\"/holidays/spain/\">Spain</a></li><li><a href=\"/holidays/sri-lanka/\">Sri Lanka</a></li><li><a href=\"/holidays/saint-barthelemy/\">St. Barts</a></li><li><a href=\"/holidays/sudan/\">Sudan</a></li><li><a href=\"/holidays/suriname/\">Suriname</a></li><li><a href=\"/holidays/sweden/\">Sweden</a></li><li><a href=\"/holidays/switzerland/\">Switzerland</a></li><li><a href=\"/holidays/syria/\">Syria</a></li></ul></section><section id=\"T\"><h3 class=\"category-list__category\">T</h3><ul class=\"category-list__list\"><li><a href=\"/holidays/taiwan/\">Taiwan</a></li><li><a href=\"/holidays/tajikistan/\">Tajikistan</a></li><li><a href=\"/holidays/tanzania/\">Tanzania</a></li><li><a href=\"/holidays/thailand/\">Thailand</a></li><li><a href=\"/holidays/bahamas/\">The Bahamas</a></li><li><a href=\"/holidays/togo/\">Togo</a></li><li><a href=\"/holidays/tonga/\">Tonga</a></li><li><a href=\"/holidays/trinidad/\">Trinidad and Tobago</a></li><li><a href=\"/holidays/tunisia/\">Tunisia</a></li><li><a href=\"/holidays/turkey/\">Turkey</a></li><li><a href=\"/holidays/turkmenistan/\">Turkmenistan</a></li><li><a href=\"/holidays/turks-and-caicos-islands/\">Turks and Caicos Islands</a></li><li><a href=\"/holidays/tuvalu/\">Tuvalu</a></li></ul></section><section id=\"U\"><h3 class=\"category-list__category\">U</h3><ul class=\"category-list__list\"><li><a href=\"/holidays/uganda/\">Uganda</a></li><li><a href=\"/holidays/ukraine/\">Ukraine</a></li><li><a href=\"/holidays/united-arab-emirates/\">United Arab Emirates</a></li><li><a href=\"/holidays/uk/\">United Kingdom</a></li><li><a href=\"/holidays/us/\">United States</a></li><li><a href=\"/holidays/uruguay/\">Uruguay</a></li><li><a href=\"/holidays/united-states-virgin-islands/\">US Virgin Islands</a></li><li><a href=\"/holidays/uzbekistan/\">Uzbekistan</a></li></ul></section><section id=\"V\"><h3 class=\"category-list__category\">V</h3><ul class=\"category-list__list\"><li><a href=\"/holidays/vanuatu/\">Vanuatu</a></li><li><a href=\"/holidays/vatican-city-state/\">Vatican City (Holy See)</a></li><li><a href=\"/holidays/venezuela/\">Venezuela</a></li><li><a href=\"/holidays/vietnam/\">Vietnam</a></li></ul></section><section id=\"W\"><h3 class=\"category-list__category\">W</h3><ul class=\"category-list__list\"><li><a href=\"/holidays/wallis-and-futuna/\">Wallis and Futuna</a></li></ul></section><section id=\"Y\"><h3 class=\"category-list__category\">Y</h3><ul class=\"category-list__list\"><li><a href=\"/holidays/yemen/\">Yemen</a></li></ul></section><section id=\"Z\"><h3 class=\"category-list__category\">Z</h3><ul class=\"category-list__list\"><li><a href=\"/holidays/zambia/\">Zambia</a></li><li><a href=\"/holidays/zimbabwe/\">Zimbabwe</a></li></ul></section></div></section></article>]"
      ]
     },
     "execution_count": 103,
     "metadata": {},
     "output_type": "execute_result"
    }
   ],
   "source": [
    "holiday_calander = browser.html\n",
    "soup = BeautifulSoup(holiday_calander, 'html.parser')\n",
    "\n",
    "results = soup.div.find_all(\"article\", class_='category-list')\n",
    "\n",
    "results"
   ]
  },
  {
   "cell_type": "code",
   "execution_count": 120,
   "metadata": {},
   "outputs": [
    {
     "name": "stdout",
     "output_type": "stream",
     "text": [
      "['afghanistan', 'albania', 'algeria', 'american-samoa', 'andorra', 'angola', 'anguilla', 'antigua-and-barbuda', 'argentina', 'armenia', 'aruba', 'australia', 'austria', 'azerbaijan', 'bahrain', 'bangladesh', 'barbados', 'belarus', 'belgium', 'belize', 'benin', 'bermuda', 'bhutan', 'bolivia', 'bosnia', 'botswana', 'brazil', 'british-virgin-islands', 'brunei', 'bulgaria', 'burkina-faso', 'burundi', 'cape-verde', 'cambodia', 'cameroon', 'canada', 'cayman-islands', 'central-african-republic', 'chad', 'chile', 'china', 'colombia', 'comores', 'republic-of-the-congo', 'dr-congo', 'cook-islands', 'costa-rica', 'ivory-coast', 'croatia', 'cuba', 'curacao', 'cyprus', 'czech', 'denmark', 'djibouti', 'dominica', 'dominican-republic', 'timor-leste', 'ecuador', 'egypt', 'el-salvador', 'guineaecuatorial', 'eritrea', 'estonia', 'swaziland', 'ethiopia', 'falkland-islands', 'faroe-islands', 'fiji', 'finland', 'france', 'french-guiana', 'french-polynesia', 'gabon', 'gambia', 'georgia', 'germany', 'ghana', 'gibraltar', 'greece', 'greenland', 'grenada', 'guadeloupe', 'guam', 'guatemala', 'guernsey', 'guinea', 'guinea-bissau', 'guyana', 'haiti', 'honduras', 'hong-kong', 'hungary', 'iceland', 'india', 'indonesia', 'iran', 'iraq', 'ireland', 'isle-of-man', 'israel', 'italy', 'jamaica', 'japan', 'jersey', 'jordan', 'kazakhstan', 'kenya', 'kiribati', 'kosovo', 'kuwait', 'kyrgyzstan', 'laos', 'latvia', 'lebanon', 'lesotho', 'liberia', 'libya', 'liechtenstein', 'lithuania', 'luxembourg', 'macau', 'madagascar', 'malawi', 'malaysia', 'maldives', 'mali', 'malta', 'marshall-islands', 'martinique', 'mauritania', 'mauritius', 'mayotte', 'mexico', 'micronesia', 'moldova', 'monaco', 'mongolia', 'montenegro', 'montserrat', 'morocco', 'mozambique', 'myanmar', 'namibia', 'nauru', 'nepal', 'netherlands', 'new-caledonia', 'new-zealand', 'nicaragua', 'niger', 'nigeria', 'north-korea', 'macedonia', 'northern-mariana-islands', 'norway', 'oman', 'pakistan', 'palau', 'panama', 'papua-new-guinea', 'paraguay', 'peru', 'philippines', 'poland', 'portugal', 'puerto-rico', 'qatar', 'reunion', 'romania', 'russia', 'rwanda', 'saint-helena', 'saint-kitts-and-nevis', 'saint-lucia', 'saint-martin', 'saint-pierre-and-miquelon', 'saint-vincent-and-the-grenadines', 'samoa', 'san-marino', 'sao-tome-and-principe', 'saudi-arabia', 'senegal', 'serbia', 'seychelles', 'sierra-leone', 'singapore', 'sint-maarten', 'slovakia', 'slovenia', 'solomon-islands', 'somalia', 'south-africa', 'south-korea', 'south-sudan', 'spain', 'sri-lanka', 'saint-barthelemy', 'sudan', 'suriname', 'sweden', 'switzerland', 'syria', 'taiwan', 'tajikistan', 'tanzania', 'thailand', 'bahamas', 'togo', 'tonga', 'trinidad', 'tunisia', 'turkey', 'turkmenistan', 'turks-and-caicos-islands', 'tuvalu', 'uganda', 'ukraine', 'united-arab-emirates', 'uk', 'us', 'uruguay', 'united-states-virgin-islands', 'uzbekistan', 'vanuatu', 'vatican-city-state', 'venezuela', 'vietnam', 'wallis-and-futuna', 'yemen', 'zambia', 'zimbabwe']\n"
     ]
    }
   ],
   "source": [
    "\n",
    "for result in results:\n",
    "    \n",
    "    country = [i['href'] for i in result.find_all('a', href=True)]\n",
    "\n",
    "final_country = []\n",
    "for c in country:\n",
    "    final_country.append(c[10:-1])\n",
    "\n",
    "f_country = list(filter(None, final_country))\n",
    "\n",
    "print(f_country)"
   ]
  },
  {
   "cell_type": "code",
   "execution_count": null,
   "metadata": {},
   "outputs": [],
   "source": []
  }
 ],
 "metadata": {
  "kernelspec": {
   "display_name": "Python 3",
   "language": "python",
   "name": "python3"
  },
  "language_info": {
   "codemirror_mode": {
    "name": "ipython",
    "version": 3
   },
   "file_extension": ".py",
   "mimetype": "text/x-python",
   "name": "python",
   "nbconvert_exporter": "python",
   "pygments_lexer": "ipython3",
   "version": "3.7.3"
  }
 },
 "nbformat": 4,
 "nbformat_minor": 2
}
